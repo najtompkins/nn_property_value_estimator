{
 "cells": [
  {
   "cell_type": "markdown",
   "metadata": {},
   "source": [
    "## Import and Clean the Addresses file"
   ]
  },
  {
   "cell_type": "code",
   "execution_count": 1,
   "metadata": {},
   "outputs": [
    {
     "data": {
      "text/html": [
       "<div>\n",
       "<style scoped>\n",
       "    .dataframe tbody tr th:only-of-type {\n",
       "        vertical-align: middle;\n",
       "    }\n",
       "\n",
       "    .dataframe tbody tr th {\n",
       "        vertical-align: top;\n",
       "    }\n",
       "\n",
       "    .dataframe thead th {\n",
       "        text-align: right;\n",
       "    }\n",
       "</style>\n",
       "<table border=\"1\" class=\"dataframe\">\n",
       "  <thead>\n",
       "    <tr style=\"text-align: right;\">\n",
       "      <th></th>\n",
       "      <th>ACCOUNT_NUM</th>\n",
       "      <th>DIVISION_CD</th>\n",
       "      <th>STREET_NUM</th>\n",
       "      <th>FULL_STREET_NAME</th>\n",
       "      <th>PROPERTY_CITY</th>\n",
       "      <th>PROPERTY_ZIPCODE</th>\n",
       "      <th>GIS_PARCEL_ID</th>\n",
       "    </tr>\n",
       "  </thead>\n",
       "  <tbody>\n",
       "    <tr>\n",
       "      <th>0</th>\n",
       "      <td>38204500060410000</td>\n",
       "      <td>RES</td>\n",
       "      <td>2326</td>\n",
       "      <td>LUAU ST</td>\n",
       "      <td>MESQUITE (DALLAS CO)</td>\n",
       "      <td>751503826</td>\n",
       "      <td>38204500060410000</td>\n",
       "    </tr>\n",
       "    <tr>\n",
       "      <th>1</th>\n",
       "      <td>38137500370290000</td>\n",
       "      <td>RES</td>\n",
       "      <td>1737</td>\n",
       "      <td>HIGHLAND ST</td>\n",
       "      <td>MESQUITE (DALLAS CO)</td>\n",
       "      <td>751491534</td>\n",
       "      <td>38137500370290000</td>\n",
       "    </tr>\n",
       "    <tr>\n",
       "      <th>2</th>\n",
       "      <td>60259500060160000</td>\n",
       "      <td>RES</td>\n",
       "      <td>9999</td>\n",
       "      <td>AUTUMN WOOD DR</td>\n",
       "      <td>MESQUITE (DALLAS CO)</td>\n",
       "      <td>75181</td>\n",
       "      <td>60259500060160000</td>\n",
       "    </tr>\n",
       "    <tr>\n",
       "      <th>3</th>\n",
       "      <td>60259500050250000</td>\n",
       "      <td>RES</td>\n",
       "      <td>9925</td>\n",
       "      <td>AUTUMN WOOD DR</td>\n",
       "      <td>MESQUITE (DALLAS CO)</td>\n",
       "      <td>75181</td>\n",
       "      <td>60259500050250000</td>\n",
       "    </tr>\n",
       "    <tr>\n",
       "      <th>4</th>\n",
       "      <td>60259500060230000</td>\n",
       "      <td>RES</td>\n",
       "      <td>9999</td>\n",
       "      <td>RIPPLEWOOD DR</td>\n",
       "      <td>MESQUITE (DALLAS CO)</td>\n",
       "      <td>75181</td>\n",
       "      <td>60259500060230000</td>\n",
       "    </tr>\n",
       "  </tbody>\n",
       "</table>\n",
       "</div>"
      ],
      "text/plain": [
       "         ACCOUNT_NUM DIVISION_CD  STREET_NUM FULL_STREET_NAME  \\\n",
       "0  38204500060410000         RES        2326          LUAU ST   \n",
       "1  38137500370290000         RES        1737      HIGHLAND ST   \n",
       "2  60259500060160000         RES        9999   AUTUMN WOOD DR   \n",
       "3  60259500050250000         RES        9925   AUTUMN WOOD DR   \n",
       "4  60259500060230000         RES        9999    RIPPLEWOOD DR   \n",
       "\n",
       "          PROPERTY_CITY PROPERTY_ZIPCODE      GIS_PARCEL_ID  \n",
       "0  MESQUITE (DALLAS CO)        751503826  38204500060410000  \n",
       "1  MESQUITE (DALLAS CO)        751491534  38137500370290000  \n",
       "2  MESQUITE (DALLAS CO)        75181      60259500060160000  \n",
       "3  MESQUITE (DALLAS CO)        75181      60259500050250000  \n",
       "4  MESQUITE (DALLAS CO)        75181      60259500060230000  "
      ]
     },
     "execution_count": 1,
     "metadata": {},
     "output_type": "execute_result"
    }
   ],
   "source": [
    "import pandas as pd\n",
    "\n",
    "# Replace 'your_file.csv' with the path to your CSV file\n",
    "file_path = '../data/addresses.csv'\n",
    "\n",
    "# Read the CSV file into a Pandas DataFrame\n",
    "df = pd.read_csv(file_path)\n",
    "\n",
    "# Display the DataFrame\n",
    "df.head()\n"
   ]
  },
  {
   "cell_type": "code",
   "execution_count": 2,
   "metadata": {},
   "outputs": [
    {
     "name": "stdout",
     "output_type": "stream",
     "text": [
      "Number of rows in the DataFrame: 614512\n"
     ]
    }
   ],
   "source": [
    "# Get the number of rows in the DataFrame\n",
    "num_rows = df.shape[0]\n",
    "\n",
    "print(f\"Number of rows in the DataFrame: {num_rows}\")"
   ]
  },
  {
   "cell_type": "code",
   "execution_count": 3,
   "metadata": {},
   "outputs": [
    {
     "name": "stderr",
     "output_type": "stream",
     "text": [
      "/var/folders/lm/zm6_v2d953zcr8t5mrvy0_qw0000gn/T/ipykernel_98425/2593335938.py:2: FutureWarning: The default value of regex will change from True to False in a future version.\n",
      "  df['PROPERTY_CITY'] = df['PROPERTY_CITY'].str.replace(r'\\(DALLAS CO\\)', '').str.rstrip()\n"
     ]
    },
    {
     "data": {
      "text/html": [
       "<div>\n",
       "<style scoped>\n",
       "    .dataframe tbody tr th:only-of-type {\n",
       "        vertical-align: middle;\n",
       "    }\n",
       "\n",
       "    .dataframe tbody tr th {\n",
       "        vertical-align: top;\n",
       "    }\n",
       "\n",
       "    .dataframe thead th {\n",
       "        text-align: right;\n",
       "    }\n",
       "</style>\n",
       "<table border=\"1\" class=\"dataframe\">\n",
       "  <thead>\n",
       "    <tr style=\"text-align: right;\">\n",
       "      <th></th>\n",
       "      <th>ACCOUNT_NUM</th>\n",
       "      <th>DIVISION_CD</th>\n",
       "      <th>STREET_NUM</th>\n",
       "      <th>FULL_STREET_NAME</th>\n",
       "      <th>PROPERTY_CITY</th>\n",
       "      <th>PROPERTY_ZIPCODE</th>\n",
       "      <th>GIS_PARCEL_ID</th>\n",
       "      <th>FullAddress</th>\n",
       "    </tr>\n",
       "  </thead>\n",
       "  <tbody>\n",
       "    <tr>\n",
       "      <th>0</th>\n",
       "      <td>38204500060410000</td>\n",
       "      <td>RES</td>\n",
       "      <td>2326</td>\n",
       "      <td>LUAU ST</td>\n",
       "      <td>MESQUITE</td>\n",
       "      <td>751503826</td>\n",
       "      <td>38204500060410000</td>\n",
       "      <td>2326 LUAU ST MESQUITE TX 75150</td>\n",
       "    </tr>\n",
       "    <tr>\n",
       "      <th>1</th>\n",
       "      <td>38137500370290000</td>\n",
       "      <td>RES</td>\n",
       "      <td>1737</td>\n",
       "      <td>HIGHLAND ST</td>\n",
       "      <td>MESQUITE</td>\n",
       "      <td>751491534</td>\n",
       "      <td>38137500370290000</td>\n",
       "      <td>1737 HIGHLAND ST MESQUITE TX 75149</td>\n",
       "    </tr>\n",
       "    <tr>\n",
       "      <th>3</th>\n",
       "      <td>60259500050250000</td>\n",
       "      <td>RES</td>\n",
       "      <td>9925</td>\n",
       "      <td>AUTUMN WOOD DR</td>\n",
       "      <td>MESQUITE</td>\n",
       "      <td>75181</td>\n",
       "      <td>60259500050250000</td>\n",
       "      <td>9925 AUTUMN WOOD DR MESQUITE TX 75181</td>\n",
       "    </tr>\n",
       "    <tr>\n",
       "      <th>5</th>\n",
       "      <td>38213500050160000</td>\n",
       "      <td>RES</td>\n",
       "      <td>2900</td>\n",
       "      <td>SIDNEY DR</td>\n",
       "      <td>MESQUITE</td>\n",
       "      <td>751502253</td>\n",
       "      <td>38213500050160000</td>\n",
       "      <td>2900 SIDNEY DR MESQUITE TX 75150</td>\n",
       "    </tr>\n",
       "    <tr>\n",
       "      <th>9</th>\n",
       "      <td>38139500580020000</td>\n",
       "      <td>RES</td>\n",
       "      <td>1507</td>\n",
       "      <td>RICHARD ST</td>\n",
       "      <td>MESQUITE</td>\n",
       "      <td>751491438</td>\n",
       "      <td>38139500580020000</td>\n",
       "      <td>1507 RICHARD ST MESQUITE TX 75149</td>\n",
       "    </tr>\n",
       "  </tbody>\n",
       "</table>\n",
       "</div>"
      ],
      "text/plain": [
       "         ACCOUNT_NUM DIVISION_CD  STREET_NUM FULL_STREET_NAME PROPERTY_CITY  \\\n",
       "0  38204500060410000         RES        2326          LUAU ST      MESQUITE   \n",
       "1  38137500370290000         RES        1737      HIGHLAND ST      MESQUITE   \n",
       "3  60259500050250000         RES        9925   AUTUMN WOOD DR      MESQUITE   \n",
       "5  38213500050160000         RES        2900        SIDNEY DR      MESQUITE   \n",
       "9  38139500580020000         RES        1507       RICHARD ST      MESQUITE   \n",
       "\n",
       "  PROPERTY_ZIPCODE      GIS_PARCEL_ID                            FullAddress  \n",
       "0        751503826  38204500060410000         2326 LUAU ST MESQUITE TX 75150  \n",
       "1        751491534  38137500370290000     1737 HIGHLAND ST MESQUITE TX 75149  \n",
       "3        75181      60259500050250000  9925 AUTUMN WOOD DR MESQUITE TX 75181  \n",
       "5        751502253  38213500050160000       2900 SIDNEY DR MESQUITE TX 75150  \n",
       "9        751491438  38139500580020000      1507 RICHARD ST MESQUITE TX 75149  "
      ]
     },
     "execution_count": 3,
     "metadata": {},
     "output_type": "execute_result"
    }
   ],
   "source": [
    "# Remove unnesessary (DALLAS CO) from PROPERTY_CITY series\n",
    "df['PROPERTY_CITY'] = df['PROPERTY_CITY'].str.replace(r'\\(DALLAS CO\\)', '').str.rstrip()\n",
    "\n",
    "# Add a column with the full address\n",
    "df['FullAddress'] = df['STREET_NUM'].astype(str) + ' ' + df['FULL_STREET_NAME'] + ' ' + df['PROPERTY_CITY'] + ' ' + 'TX' + ' ' + df['PROPERTY_ZIPCODE'].astype(str).str[:5]\n",
    "\n",
    "# Remove duplicate addresses \n",
    "#(not keeping the first occurrence due to duplicate addresses indicating a new development with temporary addresses)\n",
    "df = df.drop_duplicates(keep=False, subset=[\"FullAddress\"])\n",
    "\n",
    "# Display the DataFrame\n",
    "df.head()"
   ]
  },
  {
   "cell_type": "code",
   "execution_count": 5,
   "metadata": {},
   "outputs": [
    {
     "name": "stdout",
     "output_type": "stream",
     "text": [
      "Number of rows in the DataFrame once the duplicate addresses are removed: 606331\n"
     ]
    }
   ],
   "source": [
    "# Get the number of rows in the DataFrame\n",
    "num_rows = df.shape[0]\n",
    "\n",
    "print(f\"Number of rows in the DataFrame once the duplicate addresses are removed: {num_rows}\")"
   ]
  },
  {
   "cell_type": "code",
   "execution_count": 6,
   "metadata": {},
   "outputs": [],
   "source": [
    "# Export dataframe to CSV as addresses_cleaned\n",
    "df.to_csv('../data/addresses_cleaned.csv', index=False)"
   ]
  }
 ],
 "metadata": {
  "kernelspec": {
   "display_name": "dev",
   "language": "python",
   "name": "python3"
  },
  "language_info": {
   "codemirror_mode": {
    "name": "ipython",
    "version": 3
   },
   "file_extension": ".py",
   "mimetype": "text/x-python",
   "name": "python",
   "nbconvert_exporter": "python",
   "pygments_lexer": "ipython3",
   "version": "3.10.11"
  }
 },
 "nbformat": 4,
 "nbformat_minor": 2
}
