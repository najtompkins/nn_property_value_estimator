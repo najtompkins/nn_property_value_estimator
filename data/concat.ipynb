{
 "cells": [
  {
   "cell_type": "code",
   "execution_count": 116,
   "metadata": {},
   "outputs": [],
   "source": [
    "import pandas as pd\n",
    "\n",
    "# Read the CSV files into DataFrames\n",
    "df1 = pd.read_csv('redfin_house_data.csv')\n",
    "df2 = pd.read_csv('redfin_house_data_batch2.csv')\n",
    "df3 = pd.read_csv('redfin_house_data_batch3.csv')\n",
    "df4 = pd.read_csv('redfin_house_data_batch4.csv')\n",
    "\n",
    "# Concatenate the DataFrames\n",
    "combined_df = pd.concat([df1, df2, df3, df4])\n",
    "\n",
    "# Save the combined DataFrame to a CSV file\n",
    "combined_df.to_csv('combined_file.csv', index=False)"
   ]
  },
  {
   "cell_type": "code",
   "execution_count": 117,
   "metadata": {},
   "outputs": [
    {
     "data": {
      "text/plain": [
       "property_id       33453\n",
       "full_address      33453\n",
       "beds              33453\n",
       "baths             33453\n",
       "year_built        33453\n",
       "sq_ft_interior    33453\n",
       "sq_ft_lot         33453\n",
       "price             33453\n",
       "price_label       33453\n",
       "lat               33453\n",
       "long              33453\n",
       "img_url           33453\n",
       "zip_code          33453\n",
       "dtype: int64"
      ]
     },
     "execution_count": 117,
     "metadata": {},
     "output_type": "execute_result"
    }
   ],
   "source": [
    "combined_df.count() "
   ]
  },
  {
   "cell_type": "code",
   "execution_count": 118,
   "metadata": {},
   "outputs": [
    {
     "data": {
      "text/plain": [
       "property_id       33453\n",
       "full_address      33453\n",
       "beds                 12\n",
       "baths                22\n",
       "year_built          124\n",
       "sq_ft_interior     3955\n",
       "sq_ft_lot          5728\n",
       "price             32126\n",
       "price_label           1\n",
       "lat               33210\n",
       "long              23533\n",
       "img_url           33453\n",
       "zip_code             83\n",
       "dtype: int64"
      ]
     },
     "execution_count": 118,
     "metadata": {},
     "output_type": "execute_result"
    }
   ],
   "source": [
    "combined_df.nunique()"
   ]
  },
  {
   "cell_type": "code",
   "execution_count": 119,
   "metadata": {},
   "outputs": [
    {
     "data": {
      "text/html": [
       "<div>\n",
       "<style scoped>\n",
       "    .dataframe tbody tr th:only-of-type {\n",
       "        vertical-align: middle;\n",
       "    }\n",
       "\n",
       "    .dataframe tbody tr th {\n",
       "        vertical-align: top;\n",
       "    }\n",
       "\n",
       "    .dataframe thead th {\n",
       "        text-align: right;\n",
       "    }\n",
       "</style>\n",
       "<table border=\"1\" class=\"dataframe\">\n",
       "  <thead>\n",
       "    <tr style=\"text-align: right;\">\n",
       "      <th></th>\n",
       "      <th>full_address</th>\n",
       "      <th>beds</th>\n",
       "      <th>baths</th>\n",
       "      <th>year_built</th>\n",
       "      <th>sq_ft_interior</th>\n",
       "      <th>sq_ft_lot</th>\n",
       "      <th>price</th>\n",
       "      <th>lat</th>\n",
       "      <th>long</th>\n",
       "      <th>zip_code</th>\n",
       "    </tr>\n",
       "  </thead>\n",
       "  <tbody>\n",
       "    <tr>\n",
       "      <th>0</th>\n",
       "      <td>2326 LUAU ST MESQUITE TX 75150</td>\n",
       "      <td>3</td>\n",
       "      <td>1.5</td>\n",
       "      <td>1966</td>\n",
       "      <td>1356</td>\n",
       "      <td>8303</td>\n",
       "      <td>241183</td>\n",
       "      <td>32.798774</td>\n",
       "      <td>-96.649097</td>\n",
       "      <td>75150</td>\n",
       "    </tr>\n",
       "    <tr>\n",
       "      <th>1</th>\n",
       "      <td>1737 HIGHLAND ST MESQUITE TX 75149</td>\n",
       "      <td>3</td>\n",
       "      <td>1.0</td>\n",
       "      <td>1955</td>\n",
       "      <td>1454</td>\n",
       "      <td>7501</td>\n",
       "      <td>218014</td>\n",
       "      <td>32.787427</td>\n",
       "      <td>-96.609647</td>\n",
       "      <td>75149</td>\n",
       "    </tr>\n",
       "    <tr>\n",
       "      <th>2</th>\n",
       "      <td>2900 SIDNEY DR MESQUITE TX 75150</td>\n",
       "      <td>3</td>\n",
       "      <td>2.0</td>\n",
       "      <td>1972</td>\n",
       "      <td>1392</td>\n",
       "      <td>7196</td>\n",
       "      <td>241089</td>\n",
       "      <td>32.817247</td>\n",
       "      <td>-96.644125</td>\n",
       "      <td>75150</td>\n",
       "    </tr>\n",
       "    <tr>\n",
       "      <th>3</th>\n",
       "      <td>1507 RICHARD ST MESQUITE TX 75149</td>\n",
       "      <td>3</td>\n",
       "      <td>1.0</td>\n",
       "      <td>1957</td>\n",
       "      <td>1313</td>\n",
       "      <td>7501</td>\n",
       "      <td>205940</td>\n",
       "      <td>32.787413</td>\n",
       "      <td>-96.616575</td>\n",
       "      <td>75149</td>\n",
       "    </tr>\n",
       "    <tr>\n",
       "      <th>4</th>\n",
       "      <td>806 BRANDON DR SEAGOVILLE TX 75159</td>\n",
       "      <td>5</td>\n",
       "      <td>2.0</td>\n",
       "      <td>2004</td>\n",
       "      <td>1504</td>\n",
       "      <td>8407</td>\n",
       "      <td>275611</td>\n",
       "      <td>32.661589</td>\n",
       "      <td>-96.547004</td>\n",
       "      <td>75159</td>\n",
       "    </tr>\n",
       "  </tbody>\n",
       "</table>\n",
       "</div>"
      ],
      "text/plain": [
       "                         full_address  beds  baths  year_built  \\\n",
       "0      2326 LUAU ST MESQUITE TX 75150     3    1.5        1966   \n",
       "1  1737 HIGHLAND ST MESQUITE TX 75149     3    1.0        1955   \n",
       "2    2900 SIDNEY DR MESQUITE TX 75150     3    2.0        1972   \n",
       "3   1507 RICHARD ST MESQUITE TX 75149     3    1.0        1957   \n",
       "4  806 BRANDON DR SEAGOVILLE TX 75159     5    2.0        2004   \n",
       "\n",
       "   sq_ft_interior  sq_ft_lot   price        lat       long zip_code  \n",
       "0            1356       8303  241183  32.798774 -96.649097    75150  \n",
       "1            1454       7501  218014  32.787427 -96.609647    75149  \n",
       "2            1392       7196  241089  32.817247 -96.644125    75150  \n",
       "3            1313       7501  205940  32.787413 -96.616575    75149  \n",
       "4            1504       8407  275611  32.661589 -96.547004    75159  "
      ]
     },
     "execution_count": 119,
     "metadata": {},
     "output_type": "execute_result"
    }
   ],
   "source": [
    "combined_df = combined_df.drop(columns=[\"price_label\", \"img_url\", \"property_id\"])\n",
    "combined_df.head()"
   ]
  },
  {
   "cell_type": "code",
   "execution_count": 120,
   "metadata": {},
   "outputs": [
    {
     "data": {
      "text/plain": [
       "full_address       object\n",
       "beds                int64\n",
       "baths             float64\n",
       "year_built          int64\n",
       "sq_ft_interior      int64\n",
       "sq_ft_lot           int64\n",
       "price               int64\n",
       "lat               float64\n",
       "long              float64\n",
       "zip_code           object\n",
       "dtype: object"
      ]
     },
     "execution_count": 120,
     "metadata": {},
     "output_type": "execute_result"
    }
   ],
   "source": [
    "combined_df.dtypes"
   ]
  },
  {
   "cell_type": "code",
   "execution_count": 121,
   "metadata": {},
   "outputs": [
    {
     "name": "stdout",
     "output_type": "stream",
     "text": [
      "full_address      33453\n",
      "beds              33453\n",
      "baths             33453\n",
      "year_built        33453\n",
      "sq_ft_interior    33453\n",
      "sq_ft_lot         33453\n",
      "price             33453\n",
      "lat               33453\n",
      "long              33453\n",
      "zip_code          33453\n",
      "dtype: int64\n"
     ]
    }
   ],
   "source": [
    "print(combined_df.count())"
   ]
  },
  {
   "cell_type": "code",
   "execution_count": 122,
   "metadata": {},
   "outputs": [],
   "source": [
    "# get rid of zip codes with null (string, 5 spaces) values \n",
    "# cleaned_combined_df = combined_df[(combined_df != \"     \").all(axis=1)]\n",
    "cleaned_combined_df = combined_df[combined_df['zip_code'] != \"     \"]"
   ]
  },
  {
   "cell_type": "code",
   "execution_count": 123,
   "metadata": {},
   "outputs": [
    {
     "name": "stdout",
     "output_type": "stream",
     "text": [
      "full_address      33208\n",
      "beds              33208\n",
      "baths             33208\n",
      "year_built        33208\n",
      "sq_ft_interior    33208\n",
      "sq_ft_lot         33208\n",
      "price             33208\n",
      "lat               33208\n",
      "long              33208\n",
      "zip_code          33208\n",
      "dtype: int64\n"
     ]
    }
   ],
   "source": [
    "print(cleaned_combined_df.count())"
   ]
  },
  {
   "cell_type": "code",
   "execution_count": 124,
   "metadata": {},
   "outputs": [
    {
     "data": {
      "text/plain": [
       "full_address      33208\n",
       "beds              33208\n",
       "baths             33208\n",
       "year_built        33208\n",
       "sq_ft_interior    33208\n",
       "sq_ft_lot         33208\n",
       "price             33208\n",
       "lat               33208\n",
       "long              33208\n",
       "zip_code          33208\n",
       "dtype: int64"
      ]
     },
     "execution_count": 124,
     "metadata": {},
     "output_type": "execute_result"
    }
   ],
   "source": [
    "cleaned_combined_df = cleaned_combined_df.drop_duplicates(keep=False, subset=[\"full_address\"])\n",
    "cleaned_combined_df.count()"
   ]
  },
  {
   "cell_type": "code",
   "execution_count": 130,
   "metadata": {},
   "outputs": [
    {
     "data": {
      "text/html": [
       "<div>\n",
       "<style scoped>\n",
       "    .dataframe tbody tr th:only-of-type {\n",
       "        vertical-align: middle;\n",
       "    }\n",
       "\n",
       "    .dataframe tbody tr th {\n",
       "        vertical-align: top;\n",
       "    }\n",
       "\n",
       "    .dataframe thead th {\n",
       "        text-align: right;\n",
       "    }\n",
       "</style>\n",
       "<table border=\"1\" class=\"dataframe\">\n",
       "  <thead>\n",
       "    <tr style=\"text-align: right;\">\n",
       "      <th></th>\n",
       "      <th>full_address</th>\n",
       "      <th>beds</th>\n",
       "      <th>baths</th>\n",
       "      <th>year_built</th>\n",
       "      <th>sq_ft_interior</th>\n",
       "      <th>sq_ft_lot</th>\n",
       "      <th>price</th>\n",
       "      <th>lat</th>\n",
       "      <th>long</th>\n",
       "      <th>zip_code</th>\n",
       "    </tr>\n",
       "  </thead>\n",
       "  <tbody>\n",
       "    <tr>\n",
       "      <th>0</th>\n",
       "      <td>2326 LUAU ST MESQUITE TX 75150</td>\n",
       "      <td>3</td>\n",
       "      <td>1.5</td>\n",
       "      <td>1966</td>\n",
       "      <td>1356</td>\n",
       "      <td>8303</td>\n",
       "      <td>241183</td>\n",
       "      <td>32.798774</td>\n",
       "      <td>-96.649097</td>\n",
       "      <td>75150</td>\n",
       "    </tr>\n",
       "    <tr>\n",
       "      <th>1</th>\n",
       "      <td>1737 HIGHLAND ST MESQUITE TX 75149</td>\n",
       "      <td>3</td>\n",
       "      <td>1.0</td>\n",
       "      <td>1955</td>\n",
       "      <td>1454</td>\n",
       "      <td>7501</td>\n",
       "      <td>218014</td>\n",
       "      <td>32.787427</td>\n",
       "      <td>-96.609647</td>\n",
       "      <td>75149</td>\n",
       "    </tr>\n",
       "    <tr>\n",
       "      <th>2</th>\n",
       "      <td>2900 SIDNEY DR MESQUITE TX 75150</td>\n",
       "      <td>3</td>\n",
       "      <td>2.0</td>\n",
       "      <td>1972</td>\n",
       "      <td>1392</td>\n",
       "      <td>7196</td>\n",
       "      <td>241089</td>\n",
       "      <td>32.817247</td>\n",
       "      <td>-96.644125</td>\n",
       "      <td>75150</td>\n",
       "    </tr>\n",
       "    <tr>\n",
       "      <th>3</th>\n",
       "      <td>1507 RICHARD ST MESQUITE TX 75149</td>\n",
       "      <td>3</td>\n",
       "      <td>1.0</td>\n",
       "      <td>1957</td>\n",
       "      <td>1313</td>\n",
       "      <td>7501</td>\n",
       "      <td>205940</td>\n",
       "      <td>32.787413</td>\n",
       "      <td>-96.616575</td>\n",
       "      <td>75149</td>\n",
       "    </tr>\n",
       "    <tr>\n",
       "      <th>4</th>\n",
       "      <td>806 BRANDON DR SEAGOVILLE TX 75159</td>\n",
       "      <td>5</td>\n",
       "      <td>2.0</td>\n",
       "      <td>2004</td>\n",
       "      <td>1504</td>\n",
       "      <td>8407</td>\n",
       "      <td>275611</td>\n",
       "      <td>32.661589</td>\n",
       "      <td>-96.547004</td>\n",
       "      <td>75159</td>\n",
       "    </tr>\n",
       "    <tr>\n",
       "      <th>...</th>\n",
       "      <td>...</td>\n",
       "      <td>...</td>\n",
       "      <td>...</td>\n",
       "      <td>...</td>\n",
       "      <td>...</td>\n",
       "      <td>...</td>\n",
       "      <td>...</td>\n",
       "      <td>...</td>\n",
       "      <td>...</td>\n",
       "      <td>...</td>\n",
       "    </tr>\n",
       "    <tr>\n",
       "      <th>33203</th>\n",
       "      <td>827 KITTY HAWK LN GRAND PRAIRIE TX 75051</td>\n",
       "      <td>2</td>\n",
       "      <td>2.0</td>\n",
       "      <td>2006</td>\n",
       "      <td>1362</td>\n",
       "      <td>304920</td>\n",
       "      <td>287949</td>\n",
       "      <td>32.735555</td>\n",
       "      <td>-97.018267</td>\n",
       "      <td>75051</td>\n",
       "    </tr>\n",
       "    <tr>\n",
       "      <th>33204</th>\n",
       "      <td>2202 AVE C  GRAND PRAIRIE TX 75051</td>\n",
       "      <td>3</td>\n",
       "      <td>2.0</td>\n",
       "      <td>1972</td>\n",
       "      <td>1774</td>\n",
       "      <td>9204</td>\n",
       "      <td>224423</td>\n",
       "      <td>32.713519</td>\n",
       "      <td>-96.981843</td>\n",
       "      <td>75051</td>\n",
       "    </tr>\n",
       "    <tr>\n",
       "      <th>33205</th>\n",
       "      <td>2445 DONNA DR GRAND PRAIRIE TX 75051</td>\n",
       "      <td>3</td>\n",
       "      <td>1.5</td>\n",
       "      <td>1972</td>\n",
       "      <td>996</td>\n",
       "      <td>6277</td>\n",
       "      <td>231002</td>\n",
       "      <td>32.708333</td>\n",
       "      <td>-96.986794</td>\n",
       "      <td>75051</td>\n",
       "    </tr>\n",
       "    <tr>\n",
       "      <th>33206</th>\n",
       "      <td>326 DORRIS DR GRAND PRAIRIE TX 75051</td>\n",
       "      <td>3</td>\n",
       "      <td>1.5</td>\n",
       "      <td>1964</td>\n",
       "      <td>1056</td>\n",
       "      <td>7854</td>\n",
       "      <td>221346</td>\n",
       "      <td>32.715131</td>\n",
       "      <td>-97.008839</td>\n",
       "      <td>75051</td>\n",
       "    </tr>\n",
       "    <tr>\n",
       "      <th>33207</th>\n",
       "      <td>409 DORRIS DR GRAND PRAIRIE TX 75051</td>\n",
       "      <td>3</td>\n",
       "      <td>1.5</td>\n",
       "      <td>1964</td>\n",
       "      <td>1061</td>\n",
       "      <td>8368</td>\n",
       "      <td>237525</td>\n",
       "      <td>32.714484</td>\n",
       "      <td>-97.010177</td>\n",
       "      <td>75051</td>\n",
       "    </tr>\n",
       "  </tbody>\n",
       "</table>\n",
       "<p>33208 rows × 10 columns</p>\n",
       "</div>"
      ],
      "text/plain": [
       "                                   full_address  beds  baths  year_built  \\\n",
       "0                2326 LUAU ST MESQUITE TX 75150     3    1.5        1966   \n",
       "1            1737 HIGHLAND ST MESQUITE TX 75149     3    1.0        1955   \n",
       "2              2900 SIDNEY DR MESQUITE TX 75150     3    2.0        1972   \n",
       "3             1507 RICHARD ST MESQUITE TX 75149     3    1.0        1957   \n",
       "4            806 BRANDON DR SEAGOVILLE TX 75159     5    2.0        2004   \n",
       "...                                         ...   ...    ...         ...   \n",
       "33203  827 KITTY HAWK LN GRAND PRAIRIE TX 75051     2    2.0        2006   \n",
       "33204        2202 AVE C  GRAND PRAIRIE TX 75051     3    2.0        1972   \n",
       "33205      2445 DONNA DR GRAND PRAIRIE TX 75051     3    1.5        1972   \n",
       "33206      326 DORRIS DR GRAND PRAIRIE TX 75051     3    1.5        1964   \n",
       "33207      409 DORRIS DR GRAND PRAIRIE TX 75051     3    1.5        1964   \n",
       "\n",
       "       sq_ft_interior  sq_ft_lot   price        lat       long zip_code  \n",
       "0                1356       8303  241183  32.798774 -96.649097    75150  \n",
       "1                1454       7501  218014  32.787427 -96.609647    75149  \n",
       "2                1392       7196  241089  32.817247 -96.644125    75150  \n",
       "3                1313       7501  205940  32.787413 -96.616575    75149  \n",
       "4                1504       8407  275611  32.661589 -96.547004    75159  \n",
       "...               ...        ...     ...        ...        ...      ...  \n",
       "33203            1362     304920  287949  32.735555 -97.018267    75051  \n",
       "33204            1774       9204  224423  32.713519 -96.981843    75051  \n",
       "33205             996       6277  231002  32.708333 -96.986794    75051  \n",
       "33206            1056       7854  221346  32.715131 -97.008839    75051  \n",
       "33207            1061       8368  237525  32.714484 -97.010177    75051  \n",
       "\n",
       "[33208 rows x 10 columns]"
      ]
     },
     "execution_count": 130,
     "metadata": {},
     "output_type": "execute_result"
    }
   ],
   "source": [
    "cleaned_combined_df.reset_index(drop=True)"
   ]
  },
  {
   "cell_type": "code",
   "execution_count": 131,
   "metadata": {},
   "outputs": [],
   "source": [
    "cleaned_combined_df.to_csv('cleaned_data.csv', index=False)"
   ]
  },
  {
   "cell_type": "code",
   "execution_count": null,
   "metadata": {},
   "outputs": [],
   "source": []
  }
 ],
 "metadata": {
  "kernelspec": {
   "display_name": "dev",
   "language": "python",
   "name": "python3"
  },
  "language_info": {
   "codemirror_mode": {
    "name": "ipython",
    "version": 3
   },
   "file_extension": ".py",
   "mimetype": "text/x-python",
   "name": "python",
   "nbconvert_exporter": "python",
   "pygments_lexer": "ipython3",
   "version": "3.10.11"
  }
 },
 "nbformat": 4,
 "nbformat_minor": 2
}
